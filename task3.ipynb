{
 "cells": [
  {
   "cell_type": "code",
   "execution_count": 2,
   "metadata": {},
   "outputs": [],
   "source": [
    "import pandas as pd"
   ]
  },
  {
   "cell_type": "code",
   "execution_count": 3,
   "metadata": {},
   "outputs": [],
   "source": [
    "data = pd.read_csv('jsrt_metadata.csv')"
   ]
  },
  {
   "cell_type": "code",
   "execution_count": 4,
   "metadata": {},
   "outputs": [
    {
     "data": {
      "text/plain": [
       "lung cancer                                       56\n",
       "lung cancer(adenocarcinoma)                       23\n",
       "tuberculoma                                       14\n",
       "granuloma                                          8\n",
       "lung cancer(bronchioloalveolar cell carcinoma)     7\n",
       "unknown                                            4\n",
       "metastasis of colon cancer                         4\n",
       "inflammatory mass                                  4\n",
       "pulmonary tuberculosis                             3\n",
       "lung abscess                                       2\n",
       "Cryptococcosis                                     2\n",
       "lung cancer(squamous cell carcinoma)               2\n",
       "Inflammatory mass                                  2\n",
       "pulmonary hematoma                                 2\n",
       "susp. inflammatory mass                            2\n",
       "hamartoma                                          2\n",
       "sclerosing hemangioma                              2\n",
       "lung cancer(large cell carcinoma)                  1\n",
       "susp. hamartoma                                    1\n",
       "metastasis of uterine cancer                       1\n",
       "organizing pneumonia                               1\n",
       "metastasis of ovarian cancer                       1\n",
       "metastatic lung cancer                             1\n",
       "lung canceror metastasis                           1\n",
       "pneumonia                                          1\n",
       "calcified granuloma                                1\n",
       "lung cancer(adenosquamous carcinoma)               1\n",
       "lung cancer(small cell carcinoma)                  1\n",
       "susp.tuberculoma                                   1\n",
       "organiging pneumonia                               1\n",
       "susp. sclerosing hemangioma                        1\n",
       "susp. lung metastasis                              1\n",
       "Name: diagnosis, dtype: int64"
      ]
     },
     "execution_count": 4,
     "metadata": {},
     "output_type": "execute_result"
    }
   ],
   "source": [
    "data['diagnosis'].value_counts()"
   ]
  },
  {
   "cell_type": "code",
   "execution_count": 25,
   "metadata": {},
   "outputs": [],
   "source": [
    "import matplotlib as plt\n",
    "from matplotlib import pyplot\n"
   ]
  },
  {
   "cell_type": "code",
   "execution_count": 34,
   "metadata": {},
   "outputs": [
    {
     "name": "stdout",
     "output_type": "stream",
     "text": [
      "Counter({'malignant': 100, 'non-nodule': 93, 'benign': 54})\n"
     ]
    }
   ],
   "source": [
    "from collections import Counter\n",
    "print(Counter(data['state']))"
   ]
  },
  {
   "cell_type": "code",
   "execution_count": 37,
   "metadata": {},
   "outputs": [],
   "source": [
    "state_type = data.groupby('state').agg('count')"
   ]
  },
  {
   "cell_type": "code",
   "execution_count": 38,
   "metadata": {},
   "outputs": [],
   "source": [
    "state_labels =  state_type.study_id.sort_values().index\n"
   ]
  },
  {
   "cell_type": "code",
   "execution_count": 40,
   "metadata": {},
   "outputs": [
    {
     "data": {
      "text/plain": [
       "([<matplotlib.patches.Wedge at 0x7fec136c7e20>,\n",
       "  <matplotlib.patches.Wedge at 0x7fec136c7820>,\n",
       "  <matplotlib.patches.Wedge at 0x7fec136baaf0>],\n",
       " [Text(0.8505887820229198, 0.6974946049230532, 'benign'),\n",
       "  Text(-0.9170384122918546, 0.6074870783656512, 'non-nodule'),\n",
       "  Text(0.32391238769004627, -1.0512282174204293, 'malignant')],\n",
       " [Text(0.4639575174670471, 0.38045160268530165, '21.9%'),\n",
       "  Text(-0.5002027703410115, 0.3313565881994461, '37.7%'),\n",
       "  Text(0.1766794841945707, -0.5733972095020523, '40.5%')])"
      ]
     },
     "execution_count": 40,
     "metadata": {},
     "output_type": "execute_result"
    },
    {
     "data": {
      "image/png": "[encoded data removed]",
      "text/plain": [
       "<Figure size 432x288 with 1 Axes>"
      ]
     },
     "metadata": {},
     "output_type": "display_data"
    }
   ],
   "source": [
    "plt.pyplot.pie(data['state'].value_counts().sort_values(),shadow=True\n",
    "                        ,labels=state_labels,autopct='%1.1f%%')"
   ]
  }
 ],
 "metadata": {
  "interpreter": {
   "hash": "7ae0aef52bef687a3c48202339f3a6d3f7667471f22019098c9e93c6041c6fc2"
  },
  "kernelspec": {
   "display_name": "Python 3.9.7 ('base': conda)",
   "language": "python",
   "name": "python3"
  },
  "language_info": {
   "codemirror_mode": {
    "name": "ipython",
    "version": 3
   },
   "file_extension": ".py",
   "mimetype": "text/x-python",
   "name": "python",
   "nbconvert_exporter": "python",
   "pygments_lexer": "ipython3",
   "version": "3.9.7"
  },
  "orig_nbformat": 4
 },
 "nbformat": 4,
 "nbformat_minor": 2
}
